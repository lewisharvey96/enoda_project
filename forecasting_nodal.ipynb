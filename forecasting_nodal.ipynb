{
 "cells": [
  {
   "cell_type": "markdown",
   "id": "5625e323",
   "metadata": {},
   "source": [
    "# Enoda Technical Challenge"
   ]
  },
  {
   "cell_type": "markdown",
   "id": "cab7cc97",
   "metadata": {},
   "source": [
    "## 1. Exploratory Data Analysis\n",
    "\n",
    "This dataset (https://zenodo.org/records/4549296) contains power measurements and meteorological forecasts relatvei to a set of 24 substation power meters from the distribution grid in Switzerland.\n",
    "\n",
    "The power measurements are provided as a pickle dataset, which includes:\n",
    "\n",
    "For each phase:\n",
    "\n",
    "- mean active and reactive power\n",
    "- voltage magnitude\n",
    "- maximum total harmonic distortion (THD)\n",
    "- voltage frequency \n",
    "- the average power over the three phases.\n",
    "- The latter one has been used as target variable in the aforementioned paper.\n",
    "\n",
    "The meteorological forecasts are provided as a Hierarchical Data Format 5 file, which includes:\n",
    "\n",
    "- temperature\n",
    "- global horizontal and normal irradiance (GHI and GNI, respectively)\n",
    "- relative humidity (RH)\n",
    "- pressure\n",
    "- wind speed and direction"
   ]
  },
  {
   "cell_type": "code",
   "execution_count": null,
   "id": "86d8c376",
   "metadata": {},
   "outputs": [],
   "source": [
    "from pathlib import Path\n",
    "import pandas as pd\n",
    "\n",
    "DATA_FLD = Path(\"data\")\n",
    "\n",
    "nwp_data = pd.read_hdf(DATA_FLD / \"nwp_data.h5\",\"df\")\n",
    "power_data = pd.read_pickle(DATA_FLD / \"power_data.p\")"
   ]
  },
  {
   "cell_type": "code",
   "execution_count": null,
   "id": "c4e9b994",
   "metadata": {},
   "outputs": [],
   "source": [
    "nwp_data.head(3)"
   ]
  },
  {
   "cell_type": "code",
   "execution_count": null,
   "id": "0ae79971",
   "metadata": {},
   "outputs": [],
   "source": [
    "# reshape data\n",
    "nwp_cols_to_keep = [\"ghi_backwards\", \"windspeed\", \"temperature\"]\n",
    "nwp_df = pd.concat([\n",
    "    pd.DataFrame(nwp_data[col].tolist(), index=nwp_data.index).add_prefix(f\"{col}_\")\n",
    "    for col in nwp_cols_to_keep\n",
    "], axis=1)"
   ]
  },
  {
   "cell_type": "code",
   "execution_count": null,
   "id": "b0419315",
   "metadata": {},
   "outputs": [],
   "source": [
    "nwp_df.head(3)"
   ]
  },
  {
   "cell_type": "code",
   "execution_count": null,
   "id": "7a49426f",
   "metadata": {},
   "outputs": [],
   "source": [
    "power_data.keys()"
   ]
  },
  {
   "cell_type": "code",
   "execution_count": null,
   "id": "a162cde3",
   "metadata": {},
   "outputs": [],
   "source": [
    "power_data_cols = ['freqA', 'P_mean', 'Q_mean', 'V_mean']"
   ]
  },
  {
   "cell_type": "code",
   "execution_count": null,
   "id": "7f94a3f5",
   "metadata": {},
   "outputs": [],
   "source": [
    "power_df = pd.concat([power_data[col].add_suffix(f\"_{col}\") for col in power_data_cols], axis=1)"
   ]
  },
  {
   "cell_type": "code",
   "execution_count": null,
   "id": "57dd1628",
   "metadata": {},
   "outputs": [],
   "source": [
    "power_df.head(3)"
   ]
  },
  {
   "cell_type": "code",
   "execution_count": null,
   "id": "692f10f9",
   "metadata": {},
   "outputs": [],
   "source": [
    "substations = ['0307a3cec15787560b7d0ba094f74d1decb2fa72',\n",
    "       '0f415416ff153479d65f54df3fa9974af46e3a89',\n",
    "       '1caab5f0e80231e1c6fdefc00edec4fdb6a02c5f',\n",
    "       '27fbb11689277a30f5db9c71b42e1d3826bd34ff',\n",
    "       '2ce3e7e1a5365dc54c7f4fc6284f0052397702b9',\n",
    "       '2d837275047e5fdce39fda42b541dbf6c858a4d1',\n",
    "       '350c6b9720ebb1e1a04e8f88ad0fa114c2af77b3',\n",
    "       '39f06481738604cb5916dce15639e380514b99ca',\n",
    "       '432650b919537d23cb4054fdb85a07eecaa4524c',\n",
    "       '49228b90116c6075fabcd8a1cf0e48e016373614',\n",
    "       '4db83178615678a918dfa6a38ae6e23de7a2d39a',\n",
    "       '5e9c55269b890ad82c8ebbd146ea2a563fe768ce',\n",
    "       '75d0930659fc8dcdaffed6c60d5871a969a76a87',\n",
    "       '7bf877fd51c1c6db07c1fb0255eac4540030f28f',\n",
    "       '7ebc4dd008e424c2510c6581a195524563b00ee9',\n",
    "       '89819f031b89125c8c4b364317478f078925fe38',\n",
    "       'a0ab25616dde3d31062ade71f866faa3b1e8e18f',\n",
    "       'a4656735af4aa0ba2e4758f8d4f6e411cfc55097',\n",
    "       'a52f9650e9aa3d60e43792eb2574e0e76bb00aaf',\n",
    "       'b3e1bf5d8d0337b42f972ca11beafea062bd99be',\n",
    "       'c41c064e0aa78571b028c8673ebe7abd59d0e6d8',\n",
    "       'c55a669913fe883d9ec913821688656ea8e4c884',\n",
    "       'da3ac5e45e56e0e2263f39f38c033366f5d1e0c4',\n",
    "       'fe2245a4afe0afc24d215dd4abd2ffb34610dd27']\n",
    "\n",
    "aggregations = ['all', 'S1', 'S2', 'S11','S12', 'S21', 'S22']"
   ]
  },
  {
   "cell_type": "code",
   "execution_count": null,
   "id": "f6d6d3f2",
   "metadata": {},
   "outputs": [],
   "source": [
    "power_df[\"all_P_mean\"].tail(6*48).plot(figsize=(20, 5))"
   ]
  },
  {
   "cell_type": "code",
   "execution_count": null,
   "id": "de61fd9f",
   "metadata": {},
   "outputs": [],
   "source": [
    "nwp_df[\"temperature_0\"].tail(6*48).plot(figsize=(20, 5))"
   ]
  },
  {
   "cell_type": "markdown",
   "id": "c9188dc3",
   "metadata": {},
   "source": [
    "## 2. Feature Engineering\n",
    "- Lags of power mean (previous hour, previous day)\n",
    "- Moving average of power mean\n",
    "- Hour of day, day of week, month\n",
    "- Holiday or not"
   ]
  },
  {
   "cell_type": "code",
   "execution_count": null,
   "id": "bb3d4849",
   "metadata": {},
   "outputs": [],
   "source": [
    "import datetime as dt\n",
    "\n",
    "holidays = [dt.datetime.strptime(i, \"%d.%m.%Y\").date() for i in pd.read_csv(DATA_FLD / \"holidays.txt\", delimiter=\"\\t\").squeeze().values]"
   ]
  },
  {
   "cell_type": "code",
   "execution_count": null,
   "id": "1f4d9114",
   "metadata": {},
   "outputs": [],
   "source": [
    "pd.plotting.autocorrelation_plot(power_df[\"0307a3cec15787560b7d0ba094f74d1decb2fa72_P_mean\"].tail(6*24*30)) # last month"
   ]
  },
  {
   "cell_type": "code",
   "execution_count": null,
   "id": "e8c225b9",
   "metadata": {},
   "outputs": [],
   "source": [
    "from typing import List\n",
    "\n",
    "def create_lag_features_df(df: pd.DataFrame, lags: List[int]=[6, 12, 24, 24*7])->pd.DataFrame:\n",
    "    lagged_frames = [\n",
    "        df.shift(lag*6).add_prefix(f'lag{lag}hr_')\n",
    "        for lag in lags\n",
    "    ]\n",
    "    return pd.concat(lagged_frames, axis=1)"
   ]
  },
  {
   "cell_type": "code",
   "execution_count": null,
   "id": "eded7fd8",
   "metadata": {},
   "outputs": [],
   "source": [
    "power_df.filter(like=\"P_mean\").filter(like=\"0307a3cec15787560b7d0ba094f74d1decb2fa72\")"
   ]
  },
  {
   "cell_type": "markdown",
   "id": "6f430f8e",
   "metadata": {},
   "source": [
    "#### Select Target Column"
   ]
  },
  {
   "cell_type": "code",
   "execution_count": null,
   "id": "1587b795",
   "metadata": {},
   "outputs": [],
   "source": [
    "Y_COL = \"0307a3cec15787560b7d0ba094f74d1decb2fa72_P_mean\""
   ]
  },
  {
   "cell_type": "code",
   "execution_count": null,
   "id": "c1fe0a53",
   "metadata": {},
   "outputs": [],
   "source": [
    "#dataframes\n",
    "power_rolling_mean = power_df.filter(like=\"P_mean\").filter(like=\"0307a3cec15787560b7d0ba094f74d1decb2fa72\").shift(1).rolling(window=\"1h\").mean().add_suffix(\"_rolling_mean\")\n",
    "lagged_df = create_lag_features_df(power_df.filter(like=\"P_mean\").filter(like=\"0307a3cec15787560b7d0ba094f74d1decb2fa72\"))\n",
    "\n",
    "#series\n",
    "hour_of_day = pd.Series(power_df.index.hour)\n",
    "day_of_week = pd.Series(power_df.index.dayofweek)\n",
    "month = pd.Series(power_df.index.month)\n",
    "is_holiday = [i in holidays for i in power_df.index.date]\n",
    "\n",
    "extra_features_df = pd.DataFrame(\n",
    "    {\n",
    "        \"hour_of_day\":hour_of_day,\n",
    "        \"day_of_week\":day_of_week,\n",
    "        \"month\":month,\n",
    "        \"is_holiday\":is_holiday,\n",
    "    },\n",
    "    index = power_df.index\n",
    ")\n",
    " \n",
    "features_df = pd.concat([nwp_df, extra_features_df, lagged_df, power_rolling_mean], axis=1) # join weather data, lagged power data and timeseries indicators"
   ]
  },
  {
   "cell_type": "code",
   "execution_count": null,
   "id": "f3427031",
   "metadata": {},
   "outputs": [],
   "source": [
    "features_df.head(3)"
   ]
  },
  {
   "cell_type": "code",
   "execution_count": null,
   "id": "7bf293eb",
   "metadata": {},
   "outputs": [],
   "source": [
    "selected_features = features_df.columns"
   ]
  },
  {
   "cell_type": "markdown",
   "id": "7061fed2",
   "metadata": {},
   "source": [
    "## 3. Modelling\n",
    "Use XGboost as a multi output regressor"
   ]
  },
  {
   "cell_type": "code",
   "execution_count": null,
   "id": "265e301d",
   "metadata": {},
   "outputs": [],
   "source": [
    "forecast_horizon = 6*24  # 24 hours ahead at 10-min intervals\n",
    "\n",
    "# Create target columns\n",
    "leads = range(1, forecast_horizon + 1)\n",
    "\n",
    "lead_frames = [\n",
    "        power_df[Y_COL].to_frame().shift(-lead).add_prefix(f'+{lead}_')\n",
    "        for lead in leads\n",
    "    ]\n",
    "\n",
    "targets_df = pd.concat(lead_frames, axis=1).dropna(how=\"all\", axis=1).dropna(how=\"any\", axis=0)"
   ]
  },
  {
   "cell_type": "code",
   "execution_count": null,
   "id": "269405d1",
   "metadata": {},
   "outputs": [],
   "source": [
    "final_features_df = features_df[selected_features].loc[targets_df.index]"
   ]
  },
  {
   "cell_type": "markdown",
   "id": "9822de64",
   "metadata": {},
   "source": [
    "## 4. Modelling"
   ]
  },
  {
   "cell_type": "markdown",
   "id": "d760c391",
   "metadata": {},
   "source": [
    "## Train, test, validation split"
   ]
  },
  {
   "cell_type": "code",
   "execution_count": null,
   "id": "2a71d63f",
   "metadata": {},
   "outputs": [],
   "source": [
    "from sklearn.model_selection import train_test_split\n",
    "\n",
    "X_temp, X_val, y_temp, y_val = train_test_split(final_features_df, targets_df, test_size=0.2, random_state=42, shuffle=False)# don't shuffle since timeseries\n",
    "X_train, X_test, y_train, y_test = train_test_split(X_temp, y_temp, test_size=0.2, random_state=42, shuffle=False)# don't shuffle since timeseries"
   ]
  },
  {
   "cell_type": "markdown",
   "id": "0b35fcb5",
   "metadata": {},
   "source": [
    "## Hyperparameter Tuning (Optuna)"
   ]
  },
  {
   "cell_type": "code",
   "execution_count": null,
   "id": "9835eba6",
   "metadata": {},
   "outputs": [],
   "source": [
    "from sklearn.multioutput import MultiOutputRegressor\n",
    "from lightgbm import LGBMRegressor\n",
    "from sklearn.metrics import make_scorer, mean_squared_error\n",
    "import numpy as np\n",
    "\n",
    "# Define scoring\n",
    "def rmse(y_true, y_pred):\n",
    "    return np.sqrt(mean_squared_error(y_true, y_pred))\n",
    "\n",
    "scorer = make_scorer(rmse)"
   ]
  },
  {
   "cell_type": "code",
   "execution_count": null,
   "id": "5e944ab6",
   "metadata": {},
   "outputs": [],
   "source": [
    "# import optuna\n",
    "\n",
    "# def objective(trial):\n",
    "#     param = {\n",
    "#         \"n_estimators\": trial.suggest_int(\"n_estimators\", 50, 100),\n",
    "#         \"max_depth\": trial.suggest_int(\"max_depth\", -1, 5),\n",
    "#         \"num_leaves\": trial.suggest_int(\"num_leaves\", 20, 50),\n",
    "#         \"learning_rate\": trial.suggest_float(\"learning_rate\", 0.01, 0.3),\n",
    "#         \"random_state\": 42\n",
    "#     }\n",
    "\n",
    "#     model = MultiOutputRegressor(LGBMRegressor(**param))\n",
    "#     model.fit(X_train, y_train)\n",
    "\n",
    "#     y_pred = model.predict(X_test)\n",
    "#     rmse = rmse(y_test, y_pred))\n",
    "\n",
    "#     return rmse"
   ]
  },
  {
   "cell_type": "code",
   "execution_count": null,
   "id": "8469c433",
   "metadata": {},
   "outputs": [],
   "source": [
    "# study = optuna.create_study()\n",
    "# study.optimize(objective, n_trials=50)"
   ]
  },
  {
   "cell_type": "code",
   "execution_count": null,
   "id": "0e1dbf22",
   "metadata": {},
   "outputs": [],
   "source": [
    "# from plotly.io import show\n",
    "\n",
    "# fig = optuna.visualization.plot_optimization_history(study)\n",
    "# show(fig)"
   ]
  },
  {
   "cell_type": "code",
   "execution_count": null,
   "id": "a91d327b",
   "metadata": {},
   "outputs": [],
   "source": [
    "best_params = {'n_estimators': 93, 'max_depth': 0, 'num_leaves': 42, 'learning_rate': 0.06768919270718152}"
   ]
  },
  {
   "cell_type": "markdown",
   "id": "c66a504f",
   "metadata": {},
   "source": [
    "## 5. Evaluation\n",
    "Check final metrics by time horizon and feature importance"
   ]
  },
  {
   "cell_type": "code",
   "execution_count": null,
   "id": "08a86f62",
   "metadata": {},
   "outputs": [],
   "source": [
    "model = MultiOutputRegressor(LGBMRegressor(**best_params, random_state=42, verbose=-1))"
   ]
  },
  {
   "cell_type": "code",
   "execution_count": null,
   "id": "8fbf0c62",
   "metadata": {},
   "outputs": [],
   "source": [
    "final_model = model.fit(X_train, y_train)"
   ]
  },
  {
   "cell_type": "code",
   "execution_count": null,
   "id": "46436d32",
   "metadata": {},
   "outputs": [],
   "source": [
    "y_pred = final_model.predict(X_val)"
   ]
  },
  {
   "cell_type": "code",
   "execution_count": null,
   "id": "c63b6bc2",
   "metadata": {},
   "outputs": [],
   "source": [
    "rmse(y_val, y_pred)"
   ]
  },
  {
   "cell_type": "code",
   "execution_count": null,
   "id": "d0a5343f",
   "metadata": {},
   "outputs": [],
   "source": [
    "rmse_s = [np.sqrt(i) for i in mean_squared_error(y_val, y_pred, multioutput=\"raw_values\")]"
   ]
  },
  {
   "cell_type": "code",
   "execution_count": null,
   "id": "3a87989e",
   "metadata": {},
   "outputs": [],
   "source": [
    "from sklearn.metrics import mean_absolute_percentage_error as mape\n",
    "\n",
    "f\"{mape(y_val, y_pred):.1%}\""
   ]
  },
  {
   "cell_type": "code",
   "execution_count": null,
   "id": "8d3496fa",
   "metadata": {},
   "outputs": [],
   "source": [
    "mape_s = mape(y_val, y_pred, multioutput=\"raw_values\")"
   ]
  },
  {
   "cell_type": "code",
   "execution_count": null,
   "id": "513e0d92",
   "metadata": {},
   "outputs": [],
   "source": [
    "pd.DataFrame(\n",
    "    {\n",
    "        \"RMSE\": rmse_s,\n",
    "        \"MAPE\": [i*100 for i in mape_s],\n",
    "    },\n",
    "    index=range(1, 145)\n",
    ").plot(subplots=True, figsize=(15, 5), title=\"Metrics over the horizon (+10min to +24hr)\")"
   ]
  },
  {
   "cell_type": "code",
   "execution_count": null,
   "id": "bd05d3b8",
   "metadata": {},
   "outputs": [],
   "source": [
    "#Feature importance"
   ]
  },
  {
   "cell_type": "code",
   "execution_count": null,
   "id": "9f35a02d",
   "metadata": {},
   "outputs": [],
   "source": [
    "from lightgbm import plot_importance\n",
    "\n",
    "ax = plot_importance(final_model.estimators_[5], max_num_features=10)\n",
    "ax.set_title(\"+1hr Model Feature Importance\")"
   ]
  },
  {
   "cell_type": "code",
   "execution_count": null,
   "id": "2307ff9d",
   "metadata": {},
   "outputs": [],
   "source": [
    "plot_importance(final_model.estimators_[-1], max_num_features=10)\n",
    "ax.set_title(\"+24hr Model Feature Importance\")"
   ]
  },
  {
   "cell_type": "code",
   "execution_count": null,
   "id": "6fbdaebc",
   "metadata": {},
   "outputs": [],
   "source": [
    "#Plots (show short vs long forecasting)"
   ]
  },
  {
   "cell_type": "code",
   "execution_count": null,
   "id": "da30b236",
   "metadata": {},
   "outputs": [],
   "source": [
    "y_pred_df = pd.DataFrame(y_pred, index=y_val.index)\n",
    "y_pred_df.columns = y_val.columns"
   ]
  },
  {
   "cell_type": "code",
   "execution_count": null,
   "id": "eb6aaf48",
   "metadata": {},
   "outputs": [],
   "source": [
    "y_val[f\"+144_{Y_COL}\"].head(6*24*7).plot(label=\"true\", figsize=(10, 2), title=(\"+24hr time horizon\"))\n",
    "y_pred_df[f\"+144_{Y_COL}\"].head(6*24*7).plot(label=\"predicted\")"
   ]
  },
  {
   "cell_type": "code",
   "execution_count": null,
   "id": "194bcff3",
   "metadata": {},
   "outputs": [],
   "source": [
    "y_val[f\"+6_{Y_COL}\"].head(6*24*5).plot(label=\"true\", figsize=(10, 2), title=(\"+1hr time horizon\"))\n",
    "y_pred_df[f\"+6_{Y_COL}\"].head(6*24*5).plot(label=\"predicted\")"
   ]
  },
  {
   "cell_type": "code",
   "execution_count": null,
   "id": "fc2ab6d2",
   "metadata": {},
   "outputs": [],
   "source": [
    "# Plot as single series"
   ]
  },
  {
   "cell_type": "code",
   "execution_count": null,
   "id": "78636ea2",
   "metadata": {},
   "outputs": [],
   "source": [
    "y_pred_df2 = pd.DataFrame(y_pred, index=y_val.index)\n",
    "y_pred_df2.columns = y_val.columns\n",
    "\n",
    "ls = []\n",
    "\n",
    "for idx, col in enumerate(y_pred_df2.columns):\n",
    "    ser = y_pred_df2[col]\n",
    "    shift = idx+1\n",
    "    ser.index = ser.index + (shift*pd.Timedelta(\"10m\"))\n",
    "    ls.append(ser)"
   ]
  },
  {
   "cell_type": "code",
   "execution_count": null,
   "id": "cec587fc",
   "metadata": {},
   "outputs": [],
   "source": [
    "plot_df = pd.concat(ls, axis=1).head(6*24*10)\n",
    "ax = plot_df.plot(alpha=0.4, legend=False, figsize=(15,5), color=\"lightgrey\")\n",
    "power_df.loc[plot_df.index, Y_COL].plot(ax=ax, color=\"black\")\n",
    "ax.set_title(\"24hr Forecasting (all horizons) vs real data\");"
   ]
  },
  {
   "cell_type": "markdown",
   "id": "3f81eaf4",
   "metadata": {},
   "source": [
    "## 7. Physical Reasoning\n",
    "Demonstrate how the forecast respects or violates physics\n",
    "- V = IZ (we don't know Z?)\n",
    "- P = IV (apparent power)\n",
    "- AP = VIcos(theta) - we have frequency and so can work out phase angle? Check for PF > 1\n",
    "- Conservation of energy\n",
    "\n",
    "Show with plots. Select a single time horizon, say hour ahead."
   ]
  },
  {
   "cell_type": "code",
   "execution_count": null,
   "id": "01420efc",
   "metadata": {},
   "outputs": [],
   "source": [
    "pd.concat(ls, axis=1).filter(like=\"+6_0307a3cec15787560b7d0ba094f74d1decb2fa72\").plot()"
   ]
  },
  {
   "cell_type": "code",
   "execution_count": null,
   "id": "b2754220",
   "metadata": {},
   "outputs": [],
   "source": [
    "pd.concat(ls, axis=1)[\"+6_0307a3cec15787560b7d0ba094f74d1decb2fa72_P_mean\"].plot()"
   ]
  },
  {
   "cell_type": "code",
   "execution_count": null,
   "id": "c8dd8086",
   "metadata": {},
   "outputs": [],
   "source": [
    "predicted_power_1hr_ser = pd.concat(ls, axis=1)[\"+6_0307a3cec15787560b7d0ba094f74d1decb2fa72_P_mean\"]\n",
    "power_data_df = power_df.loc[predicted_power_1hr_ser.index]"
   ]
  },
  {
   "cell_type": "markdown",
   "id": "31440944",
   "metadata": {},
   "source": [
    "### Check power doesn't exceed phase power mean power"
   ]
  },
  {
   "cell_type": "code",
   "execution_count": null,
   "id": "f7a0969b",
   "metadata": {},
   "outputs": [],
   "source": [
    "phase_df = pd.concat(\n",
    "    [\n",
    "        power_data[\"PA\"][\"0307a3cec15787560b7d0ba094f74d1decb2fa72\"],\n",
    "        power_data[\"PB\"][\"0307a3cec15787560b7d0ba094f74d1decb2fa72\"],\n",
    "        power_data[\"PC\"][\"0307a3cec15787560b7d0ba094f74d1decb2fa72\"]\n",
    "    ],\n",
    "    axis=1\n",
    ").assign(expected_p_mean_from_phases=lambda d: d.mean(axis=1)).loc[predicted_power_1hr_ser.index]"
   ]
  },
  {
   "cell_type": "code",
   "execution_count": null,
   "id": "2ad45c48",
   "metadata": {},
   "outputs": [],
   "source": [
    "phase_df"
   ]
  },
  {
   "cell_type": "code",
   "execution_count": null,
   "id": "d654d80b",
   "metadata": {},
   "outputs": [],
   "source": [
    "pd.concat(\n",
    "    [phase_df, \n",
    "     predicted_power_1hr_ser\n",
    "    ],\n",
    "    axis=1\n",
    ").assign(\n",
    "    flag= lambda d: d[\"+6_0307a3cec15787560b7d0ba094f74d1decb2fa72_P_mean\"] > d[\"expected_p_mean_from_phases\"]\n",
    ").astype(\n",
    "    {\"flag\": float}\n",
    ").head(\n",
    "    6*24*5\n",
    ").plot(\n",
    "    subplots=True, \n",
    "    figsize=(15, 5), \n",
    "    title=\"Predicted Active Power exceeds real Apparent Power\"\n",
    ")"
   ]
  },
  {
   "cell_type": "markdown",
   "id": "3871efae",
   "metadata": {},
   "source": [
    "## 8. Anomaly Detection (extra)\n",
    "In the historic data identify:\n",
    "- voltage sags or spikes: sudden drops/spikes in voltage (try basic rolling std thresholding) / show frequency and THD for context\n",
    "- overload conditions: \n",
    "- phase imbalance or anomalous switching: compare power/voltage across phases and look for outlier (compare max of phases to median of phases)\n",
    "- look for spikes in power i.e show freq and tempeature for context"
   ]
  },
  {
   "cell_type": "code",
   "execution_count": null,
   "id": "1ac6e8dc",
   "metadata": {},
   "outputs": [],
   "source": []
  }
 ],
 "metadata": {
  "jupytext": {
   "cell_metadata_filter": "-all",
   "main_language": "python",
   "notebook_metadata_filter": "-all"
  }
 },
 "nbformat": 4,
 "nbformat_minor": 5
}
