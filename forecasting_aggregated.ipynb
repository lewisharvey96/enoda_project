{
 "cells": [
  {
   "cell_type": "markdown",
   "id": "00b63f13",
   "metadata": {},
   "source": [
    "# Enoda Technical Challenge"
   ]
  },
  {
   "cell_type": "markdown",
   "id": "22912798",
   "metadata": {},
   "source": [
    "## 1. Exploratory Data Analysis\n",
    "\n",
    "This dataset (https://zenodo.org/records/4549296) contains power measurements and meteorological forecasts relatvei to a set of 24 substation power meters from the distribution grid in Switzerland.\n",
    "\n",
    "The power measurements are provided as a pickle dataset, which includes:\n",
    "\n",
    "For each phase:\n",
    "\n",
    "- mean active and reactive power\n",
    "- voltage magnitude\n",
    "- maximum total harmonic distortion (THD)\n",
    "- voltage frequency \n",
    "- the average power over the three phases.\n",
    "- The latter one has been used as target variable in the aforementioned paper.\n",
    "\n",
    "The meteorological forecasts are provided as a Hierarchical Data Format 5 file, which includes:\n",
    "\n",
    "- temperature\n",
    "- global horizontal and normal irradiance (GHI and GNI, respectively)\n",
    "- relative humidity (RH)\n",
    "- pressure\n",
    "- wind speed and direction"
   ]
  },
  {
   "cell_type": "code",
   "execution_count": null,
   "id": "17096275",
   "metadata": {},
   "outputs": [],
   "source": [
    "from pathlib import Path\n",
    "import pandas as pd\n",
    "\n",
    "DATA_FLD = Path(\"data\")\n",
    "\n",
    "nwp_data = pd.read_hdf(DATA_FLD / \"nwp_data.h5\",\"df\")\n",
    "power_data = pd.read_pickle(DATA_FLD / \"power_data.p\")"
   ]
  },
  {
   "cell_type": "code",
   "execution_count": null,
   "id": "06fbd247",
   "metadata": {},
   "outputs": [],
   "source": [
    "# reshape data\n",
    "nwp_cols_to_keep = [\"ghi_backwards\", \"windspeed\", \"temperature\"]\n",
    "nwp_df = pd.concat([\n",
    "    pd.DataFrame(nwp_data[col].tolist(), index=nwp_data.index).add_prefix(f\"{col}_\")\n",
    "    for col in nwp_cols_to_keep\n",
    "], axis=1)"
   ]
  },
  {
   "cell_type": "code",
   "execution_count": null,
   "id": "c1776998",
   "metadata": {},
   "outputs": [],
   "source": [
    "power_data.keys()"
   ]
  },
  {
   "cell_type": "code",
   "execution_count": null,
   "id": "8e0387f2",
   "metadata": {},
   "outputs": [],
   "source": [
    "power_data_cols = ['freqA', 'P_mean', 'Q_mean', 'V_mean']"
   ]
  },
  {
   "cell_type": "code",
   "execution_count": null,
   "id": "18879de6",
   "metadata": {},
   "outputs": [],
   "source": [
    "power_df = pd.concat([power_data[col].add_suffix(f\"_{col}\") for col in power_data_cols], axis=1)"
   ]
  },
  {
   "cell_type": "markdown",
   "id": "de4e4567",
   "metadata": {},
   "source": [
    "## 2. Feature Engineering\n",
    "- Lags of power mean (previous hour, previous day)\n",
    "- Moving average of power mean\n",
    "- Hour of day, day of week, month\n",
    "- Holiday or not"
   ]
  },
  {
   "cell_type": "code",
   "execution_count": null,
   "id": "c943628e",
   "metadata": {},
   "outputs": [],
   "source": [
    "import datetime as dt\n",
    "\n",
    "holidays = [dt.datetime.strptime(i, \"%d.%m.%Y\").date() for i in pd.read_csv(DATA_FLD / \"holidays.txt\", delimiter=\"\\t\").squeeze().values]"
   ]
  },
  {
   "cell_type": "code",
   "execution_count": null,
   "id": "ec2263c0",
   "metadata": {},
   "outputs": [],
   "source": [
    "pd.plotting.autocorrelation_plot(power_df[\"S1_P_mean\"].tail(6*24*30)) # last month"
   ]
  },
  {
   "cell_type": "code",
   "execution_count": null,
   "id": "b4fb5bcf",
   "metadata": {},
   "outputs": [],
   "source": [
    "lag_df = pd.concat([power_df[\"S1_P_mean\"], power_df[\"S1_P_mean\"].shift(24*6)], axis=1)\n",
    "lag_df.columns = [\"power\", \"power-24hr\"]\n",
    "lag_df.plot.scatter(x=\"power\", y=\"power-24hr\", alpha=0.1, s=0.2, grid=True, figsize=(3,3) ,title=\"-24hr Lag Correlation\")"
   ]
  },
  {
   "cell_type": "code",
   "execution_count": null,
   "id": "ee0c869f",
   "metadata": {
    "lines_to_next_cell": 2
   },
   "outputs": [],
   "source": [
    "ax=power_df[\"S1_P_mean\"].groupby(power_df.index.hour).mean().plot(grid=True, figsize=(5, 3), title=\"Mean power\")\n",
    "ax.set_xlabel(\"Hour of Day\")"
   ]
  },
  {
   "cell_type": "code",
   "execution_count": null,
   "id": "6933175c",
   "metadata": {},
   "outputs": [],
   "source": [
    "hour_month_df = power_df[\"S1_P_mean\"].groupby([power_df.index.hour, power_df.index.month]).mean().unstack()\n",
    "ax = hour_month_df.plot(grid=True, figsize=(5, 3), title=\"Mean power by hour by month\")\n",
    "ax.legend(loc='center left', bbox_to_anchor=(1.0, 0.5))\n",
    "ax.set_xlabel(\"Hour of day\")"
   ]
  },
  {
   "cell_type": "code",
   "execution_count": null,
   "id": "d30c43cf",
   "metadata": {},
   "outputs": [],
   "source": [
    "pd.concat([power_df[\"S1_P_mean\"], nwp_df[\"temperature_0\"]], axis=1).plot.scatter(y=\"S1_P_mean\", x=\"temperature_0\", alpha=0.05, s=0.1, grid=True, figsize=(3,3) ,title=\"Temperature vs Power Correlation\")"
   ]
  },
  {
   "cell_type": "code",
   "execution_count": null,
   "id": "d529a145",
   "metadata": {},
   "outputs": [],
   "source": [
    "rolling_mean_df = pd.concat([power_df[\"S1_P_mean\"], power_df[\"S1_P_mean\"].shift(6).rolling(window=\"1h\").mean()], axis=1)\n",
    "rolling_mean_df.columns= [\"Power\", \"1_hr_rolling_power\"]\n",
    "\n",
    "rolling_mean_df.plot.scatter(x=\"Power\", y=\"1_hr_rolling_power\", alpha=0.1, s=0.2, grid=True, figsize=(3,3) ,title=\"Hourly (previous) rolling mean Correlation\")"
   ]
  },
  {
   "cell_type": "code",
   "execution_count": null,
   "id": "5fdf0300",
   "metadata": {},
   "outputs": [],
   "source": [
    "from typing import List\n",
    "\n",
    "def create_lag_features_df(df: pd.DataFrame, lags: List[int]=[6, 12, 24, 24*7])->pd.DataFrame:\n",
    "    lagged_frames = [\n",
    "        df.shift(lag*6).add_prefix(f'lag{lag}hr_')\n",
    "        for lag in lags\n",
    "    ]\n",
    "    return pd.concat(lagged_frames, axis=1)"
   ]
  },
  {
   "cell_type": "code",
   "execution_count": null,
   "id": "c8d6a0cd",
   "metadata": {},
   "outputs": [],
   "source": [
    "power_df.filter(like=\"P_mean\").filter(like=\"S\")"
   ]
  },
  {
   "cell_type": "markdown",
   "id": "53f97c40",
   "metadata": {},
   "source": [
    "#### Select Target Column"
   ]
  },
  {
   "cell_type": "code",
   "execution_count": null,
   "id": "0e87e6de",
   "metadata": {},
   "outputs": [],
   "source": [
    "Y_COL = \"S1_P_mean\""
   ]
  },
  {
   "cell_type": "code",
   "execution_count": null,
   "id": "91561392",
   "metadata": {},
   "outputs": [],
   "source": [
    "#dataframes\n",
    "power_rolling_mean = power_df.filter(like=\"P_mean\").filter(like=\"S\").shift(1).rolling(window=\"1h\").mean().add_suffix(\"_rolling_mean\")\n",
    "lagged_df = create_lag_features_df(power_df.filter(like=\"P_mean\").filter(like=\"S\"))\n",
    "\n",
    "#series\n",
    "hour_of_day = pd.Series(power_df.index.hour)\n",
    "day_of_week = pd.Series(power_df.index.dayofweek)\n",
    "month = pd.Series(power_df.index.month)\n",
    "is_holiday = [i in holidays for i in power_df.index.date]\n",
    "\n",
    "extra_features_df = pd.DataFrame(\n",
    "    {\n",
    "        \"hour_of_day\":hour_of_day,\n",
    "        \"day_of_week\":day_of_week,\n",
    "        \"month\":month,\n",
    "        \"is_holiday\":is_holiday,\n",
    "    },\n",
    "    index = power_df.index\n",
    ")\n",
    " \n",
    "features_df = pd.concat([nwp_df, extra_features_df, lagged_df, power_rolling_mean], axis=1) # join weather data, lagged power data and timeseries indicators"
   ]
  },
  {
   "cell_type": "code",
   "execution_count": null,
   "id": "6dca3db9",
   "metadata": {},
   "outputs": [],
   "source": [
    "selected_features = features_df.columns"
   ]
  },
  {
   "cell_type": "markdown",
   "id": "28da5c50",
   "metadata": {},
   "source": [
    "## 3. Modelling\n",
    "Use XGboost as a multi output regressor"
   ]
  },
  {
   "cell_type": "code",
   "execution_count": null,
   "id": "dca17cf1",
   "metadata": {},
   "outputs": [],
   "source": [
    "forecast_horizon = 6*24  # 24 hours ahead at 10-min intervals\n",
    "\n",
    "# Create target columns\n",
    "leads = range(1, forecast_horizon + 1)\n",
    "\n",
    "lead_frames = [\n",
    "        power_df[Y_COL].to_frame().shift(-lead).add_prefix(f'+{lead}_')\n",
    "        for lead in leads\n",
    "    ]\n",
    "\n",
    "targets_df = pd.concat(lead_frames, axis=1).dropna(how=\"all\", axis=1).dropna(how=\"any\", axis=0)"
   ]
  },
  {
   "cell_type": "code",
   "execution_count": null,
   "id": "cc251350",
   "metadata": {},
   "outputs": [],
   "source": [
    "final_features_df = features_df[selected_features].loc[targets_df.index]"
   ]
  },
  {
   "cell_type": "markdown",
   "id": "c41ab64b",
   "metadata": {},
   "source": [
    "## 4. Modelling"
   ]
  },
  {
   "cell_type": "markdown",
   "id": "57f64a48",
   "metadata": {},
   "source": [
    "## Train, test, validation split"
   ]
  },
  {
   "cell_type": "code",
   "execution_count": null,
   "id": "222ecc62",
   "metadata": {},
   "outputs": [],
   "source": [
    "[i for i in final_features_df.columns]"
   ]
  },
  {
   "cell_type": "code",
   "execution_count": null,
   "id": "4988986f",
   "metadata": {},
   "outputs": [],
   "source": [
    "from sklearn.model_selection import train_test_split\n",
    " \n",
    "X_temp, X_val, y_temp, y_val = train_test_split(final_features_df, targets_df, test_size=0.2, random_state=42, shuffle=False)# don't shuffle since timeseries\n",
    "X_train, X_test, y_train, y_test = train_test_split(X_temp, y_temp, test_size=0.2, random_state=42, shuffle=False)# don't shuffle since timeseries"
   ]
  },
  {
   "cell_type": "markdown",
   "id": "eb106b5d",
   "metadata": {},
   "source": [
    "## Hyperparameter Tuning (Optuna)"
   ]
  },
  {
   "cell_type": "code",
   "execution_count": null,
   "id": "fc43b1f7",
   "metadata": {},
   "outputs": [],
   "source": [
    "from sklearn.multioutput import MultiOutputRegressor\n",
    "from lightgbm import LGBMRegressor\n",
    "from sklearn.metrics import make_scorer, mean_squared_error\n",
    "import numpy as np\n",
    "\n",
    "# Define scoring\n",
    "def rmse(y_true, y_pred):\n",
    "    return np.sqrt(mean_squared_error(y_true, y_pred))\n",
    "\n",
    "scorer = make_scorer(rmse)"
   ]
  },
  {
   "cell_type": "code",
   "execution_count": null,
   "id": "75093fe4",
   "metadata": {},
   "outputs": [],
   "source": [
    "# import optuna\n",
    "\n",
    "# def objective(trial):\n",
    "#     param = {\n",
    "#         \"n_estimators\": trial.suggest_int(\"n_estimators\", 50, 100),\n",
    "#         \"max_depth\": trial.suggest_int(\"max_depth\", -1, 5),\n",
    "#         \"num_leaves\": trial.suggest_int(\"num_leaves\", 20, 50),\n",
    "#         \"learning_rate\": trial.suggest_float(\"learning_rate\", 0.01, 0.3),\n",
    "#         \"random_state\": 42\n",
    "#     }\n",
    "\n",
    "#     model = MultiOutputRegressor(LGBMRegressor(**param))\n",
    "#     model.fit(X_train, y_train)\n",
    "\n",
    "#     y_pred = model.predict(X_test)\n",
    "#     rmse = rmse(y_test, y_pred))\n",
    "\n",
    "#     return rmse"
   ]
  },
  {
   "cell_type": "code",
   "execution_count": null,
   "id": "1fbca84b",
   "metadata": {},
   "outputs": [],
   "source": [
    "# study = optuna.create_study()\n",
    "# study.optimize(objective, n_trials=50)"
   ]
  },
  {
   "cell_type": "code",
   "execution_count": null,
   "id": "5f97b441",
   "metadata": {},
   "outputs": [],
   "source": [
    "# from plotly.io import show\n",
    "\n",
    "# fig = optuna.visualization.plot_optimization_history(study)\n",
    "# show(fig)"
   ]
  },
  {
   "cell_type": "code",
   "execution_count": null,
   "id": "a7feff6d",
   "metadata": {},
   "outputs": [],
   "source": [
    "best_params = {'n_estimators': 93, 'max_depth': 0, 'num_leaves': 42, 'learning_rate': 0.06768919270718152}"
   ]
  },
  {
   "cell_type": "markdown",
   "id": "6335ff01",
   "metadata": {},
   "source": [
    "## 5. Evaluation\n",
    "Check final metrics by time horizon and feature importance"
   ]
  },
  {
   "cell_type": "code",
   "execution_count": null,
   "id": "4bad69db",
   "metadata": {},
   "outputs": [],
   "source": [
    "Y_COL"
   ]
  },
  {
   "cell_type": "code",
   "execution_count": null,
   "id": "19723ff3",
   "metadata": {},
   "outputs": [],
   "source": [
    "model = MultiOutputRegressor(LGBMRegressor(**best_params, random_state=42, verbose=-1))"
   ]
  },
  {
   "cell_type": "code",
   "execution_count": null,
   "id": "236f1e85",
   "metadata": {},
   "outputs": [],
   "source": [
    "final_model = model.fit(X_train, y_train)"
   ]
  },
  {
   "cell_type": "code",
   "execution_count": null,
   "id": "b26f487e",
   "metadata": {},
   "outputs": [],
   "source": [
    "y_pred = final_model.predict(X_val)"
   ]
  },
  {
   "cell_type": "code",
   "execution_count": null,
   "id": "3322bd13",
   "metadata": {},
   "outputs": [],
   "source": [
    "rmse(y_val, y_pred)"
   ]
  },
  {
   "cell_type": "code",
   "execution_count": null,
   "id": "d3573de6",
   "metadata": {},
   "outputs": [],
   "source": [
    "rmse_s = [np.sqrt(i) for i in mean_squared_error(y_val, y_pred, multioutput=\"raw_values\")]"
   ]
  },
  {
   "cell_type": "code",
   "execution_count": null,
   "id": "7adad50b",
   "metadata": {},
   "outputs": [],
   "source": [
    "from sklearn.metrics import mean_absolute_percentage_error as mape\n",
    "\n",
    "f\"{mape(y_val, y_pred):.1%}\""
   ]
  },
  {
   "cell_type": "code",
   "execution_count": null,
   "id": "81ff847d",
   "metadata": {},
   "outputs": [],
   "source": [
    "mape_s = mape(y_val, y_pred, multioutput=\"raw_values\")"
   ]
  },
  {
   "cell_type": "code",
   "execution_count": null,
   "id": "2749f369",
   "metadata": {},
   "outputs": [],
   "source": [
    "pd.DataFrame(\n",
    "    {\n",
    "        \"RMSE\": rmse_s,\n",
    "        \"MAPE\": [i*100 for i in mape_s],\n",
    "    },\n",
    "    index=targets_df.columns\n",
    ").plot(subplots=True, figsize=(15, 5), title=\"Metrics over the horizon (+10min to +24hr)\")"
   ]
  },
  {
   "cell_type": "code",
   "execution_count": null,
   "id": "647ecdb9",
   "metadata": {},
   "outputs": [],
   "source": [
    "#Feature importance"
   ]
  },
  {
   "cell_type": "code",
   "execution_count": null,
   "id": "32e8162d",
   "metadata": {},
   "outputs": [],
   "source": [
    "from lightgbm import plot_importance\n",
    "\n",
    "ax = plot_importance(final_model.estimators_[5], max_num_features=10)\n",
    "ax.set_title(\"+1hr Model Feature Importance\")"
   ]
  },
  {
   "cell_type": "code",
   "execution_count": null,
   "id": "7d8c9641",
   "metadata": {},
   "outputs": [],
   "source": [
    "plot_importance(final_model.estimators_[-1], max_num_features=10)\n",
    "ax.set_title(\"+24hr Model Feature Importance\")"
   ]
  },
  {
   "cell_type": "code",
   "execution_count": null,
   "id": "fd8994ed",
   "metadata": {},
   "outputs": [],
   "source": [
    "#Plots (show short vs long forecasting)"
   ]
  },
  {
   "cell_type": "code",
   "execution_count": null,
   "id": "4912b36c",
   "metadata": {},
   "outputs": [],
   "source": [
    "y_pred_df = pd.DataFrame(y_pred, index=y_val.index)\n",
    "y_pred_df.columns = y_val.columns"
   ]
  },
  {
   "cell_type": "code",
   "execution_count": null,
   "id": "67896eff",
   "metadata": {},
   "outputs": [],
   "source": [
    "y_val[f\"+144_{Y_COL}\"].head(6*24*7).plot(label=\"true\", figsize=(10, 2), title=\"+24hr Horizon\")\n",
    "y_pred_df[f\"+144_{Y_COL}\"].head(6*24*7).plot(label=\"predicted\")"
   ]
  },
  {
   "cell_type": "code",
   "execution_count": null,
   "id": "924038e7",
   "metadata": {},
   "outputs": [],
   "source": [
    "y_val[f\"+6_{Y_COL}\"].head(6*24*7).plot(label=\"true\", figsize=(10, 2), title=\"+1hr Horizon\")\n",
    "y_pred_df[f\"+6_{Y_COL}\"].head(6*24*7).plot(label=\"predicted\")"
   ]
  },
  {
   "cell_type": "code",
   "execution_count": null,
   "id": "bc48d8cf",
   "metadata": {},
   "outputs": [],
   "source": [
    "# Plot as single series"
   ]
  },
  {
   "cell_type": "code",
   "execution_count": null,
   "id": "7479d24f",
   "metadata": {},
   "outputs": [],
   "source": [
    "y_pred_df2 = pd.DataFrame(y_pred, index=y_val.index)\n",
    "y_pred_df2.columns = y_val.columns\n",
    "\n",
    "ls = []\n",
    "\n",
    "for idx, col in enumerate(y_pred_df2.columns):\n",
    "    ser = y_pred_df2[col]\n",
    "    shift = idx+1\n",
    "    ser.index = ser.index + (shift*pd.Timedelta(\"10m\"))\n",
    "    ls.append(ser)"
   ]
  },
  {
   "cell_type": "code",
   "execution_count": null,
   "id": "4dc81b1a",
   "metadata": {},
   "outputs": [],
   "source": [
    "plot_df = pd.concat(ls, axis=1).head(6*24*10)\n",
    "ax = plot_df.plot(alpha=0.4, legend=False, figsize=(15,5), color=\"lightgrey\")\n",
    "power_df.loc[plot_df.index, Y_COL].plot(ax=ax, color=\"black\")\n",
    "ax.set_title(\"24hr Forecasting (all horizons) vs real data\");"
   ]
  },
  {
   "cell_type": "markdown",
   "id": "3e9fbe31",
   "metadata": {},
   "source": [
    "## 7. Physical Reasoning\n",
    "Demonstrate how the forecast respects or violates physics\n",
    "- V = IZ (we don't know Z?)\n",
    "- S = IV (apparent power)\n",
    "- AP = VIcos(theta) - we have frequency and so can work out phase angle? Check for PF > 1\n",
    "- Conservation of energy\n",
    "\n",
    "Show with plots. Select a single time horizon, say hour ahead."
   ]
  },
  {
   "cell_type": "code",
   "execution_count": null,
   "id": "d8f62dac",
   "metadata": {},
   "outputs": [],
   "source": [
    "power_data.keys()"
   ]
  },
  {
   "cell_type": "code",
   "execution_count": null,
   "id": "38a016fb",
   "metadata": {},
   "outputs": [],
   "source": [
    "predicted_power_1hr_ser = pd.concat(ls, axis=1)[\"+6_S1_P_mean\"]"
   ]
  },
  {
   "cell_type": "code",
   "execution_count": null,
   "id": "1f6114fb",
   "metadata": {},
   "outputs": [],
   "source": [
    "power_data_df = power_df.loc[predicted_power_1hr_ser.index]"
   ]
  },
  {
   "cell_type": "code",
   "execution_count": null,
   "id": "d7d624fd",
   "metadata": {},
   "outputs": [],
   "source": [
    "power_data_df = power_data_df.assign(\n",
    "    **{\"S1_S_mean_calc\": lambda d: np.sqrt(d[\"S1_P_mean\"]**2 + d[\"S1_Q_mean\"]**2)}\n",
    ").assign(\n",
    "    **{\"S1_I_mean_calc\": lambda d: d[\"S1_S_mean_calc\"]/d[\"S1_V_mean\"]}\n",
    ").assign(\n",
    "     **{\"S1_Z_mean_calc\": lambda d: d[\"S1_V_mean\"]/d[\"S1_I_mean_calc\"]}\n",
    ")"
   ]
  },
  {
   "cell_type": "markdown",
   "id": "c05a5e42",
   "metadata": {},
   "source": [
    "#### Check predicted active power doesn't exceed apparent power"
   ]
  },
  {
   "cell_type": "code",
   "execution_count": null,
   "id": "cae0cec3",
   "metadata": {},
   "outputs": [],
   "source": [
    "pd.concat([power_data_df[\"S1_S_mean_calc\"], predicted_power_1hr_ser], axis=1).assign(flag=lambda d: d[\"+6_S1_P_mean\"] > d[\"S1_S_mean_calc\"]).astype({\"flag\": float}).head(6*24*7).plot(subplots=True, figsize=(20, 5), title=\"Predicted Active Power exceeds real Apparent Power\")"
   ]
  },
  {
   "cell_type": "markdown",
   "id": "43c471b1",
   "metadata": {},
   "source": [
    "#### Check Power Factor"
   ]
  },
  {
   "cell_type": "code",
   "execution_count": null,
   "id": "9c4d991e",
   "metadata": {},
   "outputs": [],
   "source": [
    "pd.concat(\n",
    "    [power_data_df[\"S1_S_mean_calc\"], \n",
    "     predicted_power_1hr_ser]\n",
    "    , axis=1\n",
    ").assign(\n",
    "    pred_PF=lambda d: d[\"+6_S1_P_mean\"] / d[\"S1_S_mean_calc\"]\n",
    ").assign(\n",
    "    flag=lambda d: ~d[\"pred_PF\"].between(0,1)\n",
    ").astype(\n",
    "    {\"flag\": float}\n",
    ").head(6*24*7).plot(subplots=True, figsize=(20, 5), title=\"Predicted Active Power Leads to Non-physical Power Factor\")"
   ]
  },
  {
   "cell_type": "markdown",
   "id": "2d10175e",
   "metadata": {},
   "source": [
    "#### Phase angle check?"
   ]
  },
  {
   "cell_type": "code",
   "execution_count": null,
   "id": "55624e93",
   "metadata": {},
   "outputs": [],
   "source": [
    "pd.concat(\n",
    "    [\n",
    "        power_data_df[\"S1_S_mean_calc\"],\n",
    "        predicted_power_1hr_ser],\n",
    "    axis=1\n",
    ").assign(\n",
    "    **{\"S1_Theta_from_predicted_p+6\": lambda d: np.rad2deg(np.arccos(d[\"+6_S1_P_mean\"]/d[\"S1_S_mean_calc\"]))}\n",
    ").plot(subplots=True, figsize=(15, 5))"
   ]
  },
  {
   "cell_type": "markdown",
   "id": "8d41ea6b",
   "metadata": {},
   "source": [
    "## 8. Anomaly Detection (extra)\n",
    "In the historic data identify:\n",
    "- voltage sags or spikes: sudden drops/spikes in voltage (try basic rolling std thresholding) / show frequency and THD for context\n",
    "- overload conditions: \n",
    "- phase imbalance or anomalous switching: compare power/voltage across phases and look for outlier (compare max of phases to median of phases)\n",
    "- look for spikes in power i.e show freq and tempeature for context"
   ]
  },
  {
   "cell_type": "code",
   "execution_count": null,
   "id": "34a7e956",
   "metadata": {},
   "outputs": [],
   "source": [
    "power_data.keys()"
   ]
  },
  {
   "cell_type": "code",
   "execution_count": null,
   "id": "223ff35c",
   "metadata": {},
   "outputs": [],
   "source": [
    "all_power_df = pd.concat([power_data[col].add_suffix(f\"_{col}\") for col in power_data.keys()], axis=1)"
   ]
  },
  {
   "cell_type": "code",
   "execution_count": null,
   "id": "24661c9d",
   "metadata": {},
   "outputs": [],
   "source": [
    "v_lims = (220, 240) # legal limits"
   ]
  },
  {
   "cell_type": "code",
   "execution_count": null,
   "id": "46ecc2e1",
   "metadata": {},
   "outputs": [],
   "source": [
    "all_power_df.filter(like=\"avgVmagA\").apply(lambda d: ~d.between(*v_lims)).sum(axis=0)"
   ]
  },
  {
   "cell_type": "code",
   "execution_count": null,
   "id": "7f591030",
   "metadata": {},
   "outputs": [],
   "source": [
    "selected_meter = \"S2\""
   ]
  },
  {
   "cell_type": "code",
   "execution_count": null,
   "id": "18cf3596",
   "metadata": {},
   "outputs": [],
   "source": [
    "meter_df = all_power_df.filter(like=selected_meter)\n",
    "meter_df.columns = [i.split(\"_\", 1)[-1] for i in meter_df.columns]"
   ]
  },
  {
   "cell_type": "code",
   "execution_count": null,
   "id": "0808bfb5",
   "metadata": {},
   "outputs": [],
   "source": [
    "def flags_by_zscore(ser: pd.Series, window: str = \"1hr\", zscore:float = 2)->pd.Series:\n",
    "    flags_ser = abs(ser - ser.rolling(window=\"1h\").mean())/ ser.rolling(window=\"1h\").std()>zscore\n",
    "    flags_ser.name = \"flag\"\n",
    "    return flags_ser.astype(float)\n",
    "\n",
    "v_flags = flags_by_zscore(meter_df[\"V_mean\"])"
   ]
  },
  {
   "cell_type": "code",
   "execution_count": null,
   "id": "7b7bc240",
   "metadata": {},
   "outputs": [],
   "source": [
    "v_df = pd.concat([meter_df[\"V_mean\"], meter_df[\"V_mean\"].rolling(\"1h\").mean(), meter_df[\"V_mean\"].rolling(\"1h\").std(), abs(meter_df[\"V_mean\"] -meter_df[\"V_mean\"].rolling(window=\"1h\").mean())/ meter_df[\"V_mean\"].rolling(window=\"1h\").std(), v_flags], axis=1).tail(500)\n",
    "v_df.columns = [\"10min_avg\", \"1hr_avg\", \"1hr_std\", \"Z_score\",\"flag\"]\n",
    "v_df.plot(figsize=(15, 4), subplots=True, title=\"Hourly Voltage Anomalies flagged by Z score > 2\")"
   ]
  },
  {
   "cell_type": "code",
   "execution_count": null,
   "id": "91834276",
   "metadata": {},
   "outputs": [],
   "source": [
    "meter_df = all_power_df.filter(like=\"5e9c55269b890ad82c8ebbd146ea2a563fe768ce\")\n",
    "meter_df.columns = [i.split(\"_\", 1)[-1] for i in meter_df.columns]"
   ]
  },
  {
   "cell_type": "code",
   "execution_count": null,
   "id": "91b101f2",
   "metadata": {},
   "outputs": [],
   "source": [
    "meter_df.head(3)"
   ]
  },
  {
   "cell_type": "code",
   "execution_count": null,
   "id": "e6c0022c",
   "metadata": {},
   "outputs": [],
   "source": [
    "import matplotlib.pyplot as plt\n",
    "\n",
    "def flags_by_limits(ser:pd.Series, lower: float = 49.9, upper: float = 50.1)->pd.Series:\n",
    "    return ser.between(lower, upper).astype(float).rename(\"flag\")\n",
    "\n",
    "pd.concat([meter_df[\"PA\"], meter_df[\"freqA\"], flags_by_limits(meter_df[\"freqA\"])], axis=1).iloc[4200:5300].plot(subplots=True, figsize=(15,3), title=\"Frequency drop potentially indicating overload\")"
   ]
  },
  {
   "cell_type": "code",
   "execution_count": null,
   "id": "fbbbb41d",
   "metadata": {},
   "outputs": [],
   "source": [
    "ax=meter_df[\"freqA\"].hist(bins=20, figsize=(4,3))\n",
    "ax.set_title(\"Frequency Distribution (nominal 50 Hz)\")"
   ]
  },
  {
   "cell_type": "code",
   "execution_count": null,
   "id": "33a0ef9e",
   "metadata": {},
   "outputs": [],
   "source": [
    "meter_df[[\"avgVmagA\", \"avgVmagB\", \"avgVmagC\"]].iloc[3500:4000].plot(figsize=(15,2), alpha=0.5)"
   ]
  },
  {
   "cell_type": "code",
   "execution_count": null,
   "id": "a94f3204",
   "metadata": {},
   "outputs": [],
   "source": [
    "phase_df = meter_df[[\"PA\", \"PB\", \"PC\"]].assign(phase_min=meter_df[[\"PA\", \"PB\", \"PC\"]].min(axis=1)).assign(phase_max=meter_df[[\"PA\", \"PB\", \"PC\"]].max(axis=1)).assign(phase_imbalance=lambda d: d[\"phase_max\"]-d[\"phase_min\"]).drop(columns=[\"phase_min\", \"phase_max\"])"
   ]
  },
  {
   "cell_type": "code",
   "execution_count": null,
   "id": "5eebafb8",
   "metadata": {},
   "outputs": [],
   "source": [
    "phase_df[\"phase_imbalance\"].hist(bins=50)"
   ]
  },
  {
   "cell_type": "code",
   "execution_count": null,
   "id": "3299191c",
   "metadata": {},
   "outputs": [],
   "source": [
    "phase_df[[\"PA\", \"PB\", \"PC\"]].iloc[3500:4000].plot(figsize=(15,2), alpha=0.5)"
   ]
  },
  {
   "cell_type": "code",
   "execution_count": null,
   "id": "e011b013",
   "metadata": {},
   "outputs": [],
   "source": [
    "phase_df[\"phase_imbalance\"].iloc[3500:4000].plot(figsize=(15,1), alpha=0.5, title=\"Phase imbalance (power)\")"
   ]
  },
  {
   "cell_type": "code",
   "execution_count": null,
   "id": "c6d449e4",
   "metadata": {},
   "outputs": [],
   "source": [
    "flags_by_limits(phase_df[\"phase_imbalance\"].iloc[3500:4000], 0, 25).mul(-1).add(1).plot(figsize=(15,1), alpha=0.5, title=\"Threshold flags\")"
   ]
  },
  {
   "cell_type": "code",
   "execution_count": null,
   "id": "e3d5da3e",
   "metadata": {},
   "outputs": [],
   "source": []
  }
 ],
 "metadata": {
  "jupytext": {
   "cell_metadata_filter": "-all",
   "main_language": "python",
   "notebook_metadata_filter": "-all"
  }
 },
 "nbformat": 4,
 "nbformat_minor": 5
}
